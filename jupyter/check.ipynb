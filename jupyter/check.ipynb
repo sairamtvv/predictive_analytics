{
 "cells": [
  {
   "cell_type": "code",
   "execution_count": 1,
   "id": "initial_id",
   "metadata": {
    "collapsed": true,
    "ExecuteTime": {
     "end_time": "2024-02-13T19:28:05.256573845Z",
     "start_time": "2024-02-13T19:28:05.073041785Z"
    }
   },
   "outputs": [],
   "source": [
    "import talib"
   ]
  },
  {
   "cell_type": "code",
   "execution_count": 2,
   "outputs": [
    {
     "name": "stderr",
     "output_type": "stream",
     "text": [
      "/home/sai/anaconda3/envs/tft_dfc_newenv/lib/python3.10/site-packages/yfinance/base.py:48: FutureWarning: The default dtype for empty Series will be 'object' instead of 'float64' in a future version. Specify a dtype explicitly to silence this warning.\n",
      "  _empty_series = pd.Series()\n"
     ]
    },
    {
     "name": "stdout",
     "output_type": "stream",
     "text": [
      "2023-02-14 2024-02-14\n"
     ]
    }
   ],
   "source": [
    "from fetch_data.fetch_indian_stocks import DataFetcher\n",
    "#\n",
    "# df = get_stock_data(\"JFC\", \"2018-01-01\", \"2019-01-01\")\n",
    "# print(df.head())\n",
    "\n",
    "data_fetcher_obj = DataFetcher(symbol=\"ASIANPAINT\", n_years=1)\n",
    "df = data_fetcher_obj.fetch_data()"
   ],
   "metadata": {
    "collapsed": false,
    "ExecuteTime": {
     "end_time": "2024-02-13T19:28:30.726479232Z",
     "start_time": "2024-02-13T19:28:28.799758999Z"
    }
   },
   "id": "7aa1dcb18c2269ad"
  },
  {
   "cell_type": "code",
   "execution_count": 3,
   "outputs": [
    {
     "data": {
      "text/plain": "          DATE SERIES     OPEN     HIGH      LOW  PREV. CLOSE      LTP  \\\n0   2024-02-13     EQ  2964.95  2981.25  2945.70      2953.80  2972.05   \n1   2024-02-12     EQ  2951.65  2964.95  2920.05      2951.65  2959.00   \n2   2024-02-09     EQ  2930.00  2959.00  2910.55      2929.60  2955.95   \n3   2024-02-08     EQ  2999.75  2999.75  2919.80      2981.15  2932.00   \n4   2024-02-07     EQ  2957.00  3002.95  2936.05      2930.95  2985.00   \n..         ...    ...      ...      ...      ...          ...      ...   \n242 2023-02-20     EQ  2845.00  2852.00  2812.10      2833.60  2829.80   \n243 2023-02-17     EQ  2802.95  2845.85  2785.50      2805.95  2838.00   \n244 2023-02-16     EQ  2797.00  2834.35  2790.10      2786.15  2807.90   \n245 2023-02-15     EQ  2777.00  2798.30  2754.00      2777.00  2798.30   \n246 2023-02-14     EQ  2804.75  2804.75  2765.00      2790.75  2774.70   \n\n       CLOSE     VWAP   52W H   52W L   VOLUME         VALUE  NO OF TRADES  \\\n0    2971.60  2967.53  3568.0  2700.1   717118  2.128070e+09         60920   \n1    2953.80  2943.98  3568.0  2700.1   614469  1.808984e+09         58111   \n2    2951.65  2938.62  3568.0  2700.1  1144765  3.364028e+09        104927   \n3    2929.60  2942.95  3568.0  2700.1  1633654  4.807757e+09        138167   \n4    2981.15  2967.20  3568.0  2700.1  1134012  3.364843e+09         94761   \n..       ...      ...     ...     ...      ...           ...           ...   \n242  2825.55  2826.45  3582.9  2560.0   646218  1.826502e+09         48252   \n243  2833.60  2829.62  3582.9  2560.0   840526  2.378370e+09         51975   \n244  2805.95  2816.00  3582.9  2560.0   788964  2.221722e+09         52282   \n245  2786.15  2778.03  3582.9  2560.0   817717  2.271643e+09         59459   \n246  2777.00  2778.33  3582.9  2560.0   524746  1.457918e+09         54815   \n\n         SYMBOL  \n0    ASIANPAINT  \n1    ASIANPAINT  \n2    ASIANPAINT  \n3    ASIANPAINT  \n4    ASIANPAINT  \n..          ...  \n242  ASIANPAINT  \n243  ASIANPAINT  \n244  ASIANPAINT  \n245  ASIANPAINT  \n246  ASIANPAINT  \n\n[247 rows x 15 columns]",
      "text/html": "<div>\n<style scoped>\n    .dataframe tbody tr th:only-of-type {\n        vertical-align: middle;\n    }\n\n    .dataframe tbody tr th {\n        vertical-align: top;\n    }\n\n    .dataframe thead th {\n        text-align: right;\n    }\n</style>\n<table border=\"1\" class=\"dataframe\">\n  <thead>\n    <tr style=\"text-align: right;\">\n      <th></th>\n      <th>DATE</th>\n      <th>SERIES</th>\n      <th>OPEN</th>\n      <th>HIGH</th>\n      <th>LOW</th>\n      <th>PREV. CLOSE</th>\n      <th>LTP</th>\n      <th>CLOSE</th>\n      <th>VWAP</th>\n      <th>52W H</th>\n      <th>52W L</th>\n      <th>VOLUME</th>\n      <th>VALUE</th>\n      <th>NO OF TRADES</th>\n      <th>SYMBOL</th>\n    </tr>\n  </thead>\n  <tbody>\n    <tr>\n      <th>0</th>\n      <td>2024-02-13</td>\n      <td>EQ</td>\n      <td>2964.95</td>\n      <td>2981.25</td>\n      <td>2945.70</td>\n      <td>2953.80</td>\n      <td>2972.05</td>\n      <td>2971.60</td>\n      <td>2967.53</td>\n      <td>3568.0</td>\n      <td>2700.1</td>\n      <td>717118</td>\n      <td>2.128070e+09</td>\n      <td>60920</td>\n      <td>ASIANPAINT</td>\n    </tr>\n    <tr>\n      <th>1</th>\n      <td>2024-02-12</td>\n      <td>EQ</td>\n      <td>2951.65</td>\n      <td>2964.95</td>\n      <td>2920.05</td>\n      <td>2951.65</td>\n      <td>2959.00</td>\n      <td>2953.80</td>\n      <td>2943.98</td>\n      <td>3568.0</td>\n      <td>2700.1</td>\n      <td>614469</td>\n      <td>1.808984e+09</td>\n      <td>58111</td>\n      <td>ASIANPAINT</td>\n    </tr>\n    <tr>\n      <th>2</th>\n      <td>2024-02-09</td>\n      <td>EQ</td>\n      <td>2930.00</td>\n      <td>2959.00</td>\n      <td>2910.55</td>\n      <td>2929.60</td>\n      <td>2955.95</td>\n      <td>2951.65</td>\n      <td>2938.62</td>\n      <td>3568.0</td>\n      <td>2700.1</td>\n      <td>1144765</td>\n      <td>3.364028e+09</td>\n      <td>104927</td>\n      <td>ASIANPAINT</td>\n    </tr>\n    <tr>\n      <th>3</th>\n      <td>2024-02-08</td>\n      <td>EQ</td>\n      <td>2999.75</td>\n      <td>2999.75</td>\n      <td>2919.80</td>\n      <td>2981.15</td>\n      <td>2932.00</td>\n      <td>2929.60</td>\n      <td>2942.95</td>\n      <td>3568.0</td>\n      <td>2700.1</td>\n      <td>1633654</td>\n      <td>4.807757e+09</td>\n      <td>138167</td>\n      <td>ASIANPAINT</td>\n    </tr>\n    <tr>\n      <th>4</th>\n      <td>2024-02-07</td>\n      <td>EQ</td>\n      <td>2957.00</td>\n      <td>3002.95</td>\n      <td>2936.05</td>\n      <td>2930.95</td>\n      <td>2985.00</td>\n      <td>2981.15</td>\n      <td>2967.20</td>\n      <td>3568.0</td>\n      <td>2700.1</td>\n      <td>1134012</td>\n      <td>3.364843e+09</td>\n      <td>94761</td>\n      <td>ASIANPAINT</td>\n    </tr>\n    <tr>\n      <th>...</th>\n      <td>...</td>\n      <td>...</td>\n      <td>...</td>\n      <td>...</td>\n      <td>...</td>\n      <td>...</td>\n      <td>...</td>\n      <td>...</td>\n      <td>...</td>\n      <td>...</td>\n      <td>...</td>\n      <td>...</td>\n      <td>...</td>\n      <td>...</td>\n      <td>...</td>\n    </tr>\n    <tr>\n      <th>242</th>\n      <td>2023-02-20</td>\n      <td>EQ</td>\n      <td>2845.00</td>\n      <td>2852.00</td>\n      <td>2812.10</td>\n      <td>2833.60</td>\n      <td>2829.80</td>\n      <td>2825.55</td>\n      <td>2826.45</td>\n      <td>3582.9</td>\n      <td>2560.0</td>\n      <td>646218</td>\n      <td>1.826502e+09</td>\n      <td>48252</td>\n      <td>ASIANPAINT</td>\n    </tr>\n    <tr>\n      <th>243</th>\n      <td>2023-02-17</td>\n      <td>EQ</td>\n      <td>2802.95</td>\n      <td>2845.85</td>\n      <td>2785.50</td>\n      <td>2805.95</td>\n      <td>2838.00</td>\n      <td>2833.60</td>\n      <td>2829.62</td>\n      <td>3582.9</td>\n      <td>2560.0</td>\n      <td>840526</td>\n      <td>2.378370e+09</td>\n      <td>51975</td>\n      <td>ASIANPAINT</td>\n    </tr>\n    <tr>\n      <th>244</th>\n      <td>2023-02-16</td>\n      <td>EQ</td>\n      <td>2797.00</td>\n      <td>2834.35</td>\n      <td>2790.10</td>\n      <td>2786.15</td>\n      <td>2807.90</td>\n      <td>2805.95</td>\n      <td>2816.00</td>\n      <td>3582.9</td>\n      <td>2560.0</td>\n      <td>788964</td>\n      <td>2.221722e+09</td>\n      <td>52282</td>\n      <td>ASIANPAINT</td>\n    </tr>\n    <tr>\n      <th>245</th>\n      <td>2023-02-15</td>\n      <td>EQ</td>\n      <td>2777.00</td>\n      <td>2798.30</td>\n      <td>2754.00</td>\n      <td>2777.00</td>\n      <td>2798.30</td>\n      <td>2786.15</td>\n      <td>2778.03</td>\n      <td>3582.9</td>\n      <td>2560.0</td>\n      <td>817717</td>\n      <td>2.271643e+09</td>\n      <td>59459</td>\n      <td>ASIANPAINT</td>\n    </tr>\n    <tr>\n      <th>246</th>\n      <td>2023-02-14</td>\n      <td>EQ</td>\n      <td>2804.75</td>\n      <td>2804.75</td>\n      <td>2765.00</td>\n      <td>2790.75</td>\n      <td>2774.70</td>\n      <td>2777.00</td>\n      <td>2778.33</td>\n      <td>3582.9</td>\n      <td>2560.0</td>\n      <td>524746</td>\n      <td>1.457918e+09</td>\n      <td>54815</td>\n      <td>ASIANPAINT</td>\n    </tr>\n  </tbody>\n</table>\n<p>247 rows × 15 columns</p>\n</div>"
     },
     "execution_count": 3,
     "metadata": {},
     "output_type": "execute_result"
    }
   ],
   "source": [
    "df"
   ],
   "metadata": {
    "collapsed": false,
    "ExecuteTime": {
     "end_time": "2024-02-13T19:28:33.740931006Z",
     "start_time": "2024-02-13T19:28:33.718299943Z"
    }
   },
   "id": "76fcb5a91c175664"
  },
  {
   "cell_type": "code",
   "execution_count": null,
   "outputs": [],
   "source": [],
   "metadata": {
    "collapsed": false
   },
   "id": "2a2d95edc8455445"
  }
 ],
 "metadata": {
  "kernelspec": {
   "display_name": "Python 3",
   "language": "python",
   "name": "python3"
  },
  "language_info": {
   "codemirror_mode": {
    "name": "ipython",
    "version": 2
   },
   "file_extension": ".py",
   "mimetype": "text/x-python",
   "name": "python",
   "nbconvert_exporter": "python",
   "pygments_lexer": "ipython2",
   "version": "2.7.6"
  }
 },
 "nbformat": 4,
 "nbformat_minor": 5
}
